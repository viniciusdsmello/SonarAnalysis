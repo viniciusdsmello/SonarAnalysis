{
 "cells": [
  {
   "cell_type": "code",
   "execution_count": 1,
   "metadata": {},
   "outputs": [],
   "source": [
    "import tensorflow as tf\n",
    "import numpy as np"
   ]
  },
  {
   "cell_type": "code",
   "execution_count": 2,
   "metadata": {},
   "outputs": [],
   "source": [
    "class VariationalAutoencoder(tf.keras.Model):\n",
    "    def __init__(self, original_dim, intermediate_dim, latent_dim, name='variational_autoencoder', **kwargs):\n",
    "        super(VariationalAutoencoder, self).__init__(name=name, **kwargs)\n",
    "\n",
    "        self._original_dim = original_dim\n",
    "        self._intermediate_dim = intermediate_dim\n",
    "        self._latent_dim = latent_dim\n",
    "\n",
    "        self.encoder = Encoder(self._intermediate_dim, self._latent_dim)\n",
    "        self.decoder = Decoder(self._intermediate_dim, self._original_dim)\n",
    "\n",
    "    def call(self, inputs):\n",
    "        z_mean, z_log_var, z = self.encoder(inputs)\n",
    "        reconstructed = self.decoder(z)\n",
    "        kl_loss = 1 + z_log_var - tf.square(z_mean) - tf.exp(z_log_var)\n",
    "        kl_loss = -0.5 * tf.reduce_sum(kl_loss)\n",
    "        self.add_loss(kl_loss)\n",
    "        return reconstructed\n"
   ]
  },
  {
   "cell_type": "code",
   "execution_count": 3,
   "metadata": {},
   "outputs": [],
   "source": [
    "class Sampling(tf.keras.layers.Layer):\n",
    "    # reparameterization trick\n",
    "    # instead of sampling from Q(z|X), sample eps = N(0,I)\n",
    "    # z = z_mean + sqrt(var)*eps\n",
    "    def call(self, inputs):\n",
    "        z_mean, z_log_var = inputs\n",
    "        batch = tf.shape(z_mean)[0]\n",
    "        dim = tf.shape(z_mean)[1]\n",
    "        epsilon = tf.keras.backend.random_normal(shape=(batch, dim))\n",
    "        return z_mean + tf.exp(0.5 * z_log_var) * epsilon\n"
   ]
  },
  {
   "cell_type": "code",
   "execution_count": 4,
   "metadata": {},
   "outputs": [],
   "source": [
    "class Encoder(tf.keras.layers.Layer):\n",
    "    def __init__(self, intermediate_dim, latent_dim, name='encoder', **kwargs):\n",
    "        super(Encoder, self).__init__(name=name, **kwargs)\n",
    "        # build encoder model\n",
    "        self.x = tf.keras.layers.Dense(intermediate_dim, activation=tf.nn.relu, name='encoder_intermediate')\n",
    "        self.z_mean = tf.keras.layers.Dense(latent_dim, name='z_mean')\n",
    "        self.z_log_var = tf.keras.layers.Dense(latent_dim, name='z_log_var')\n",
    "        self.sampling = Sampling()\n",
    "\n",
    "    def call(self, inputs):\n",
    "        y = self.x(inputs)\n",
    "        z_mean = self.z_mean(y)\n",
    "        z_log_var = self.z_log_var(y)\n",
    "        z = self.sampling((z_mean, z_log_var))\n",
    "        return z_mean, z_log_var, z\n"
   ]
  },
  {
   "cell_type": "code",
   "execution_count": 5,
   "metadata": {},
   "outputs": [],
   "source": [
    "class Decoder(tf.keras.layers.Layer):\n",
    "    def __init__(self, intermediate_dim, original_dim, name='decoder', **kwargs):\n",
    "        super(Decoder, self).__init__(name=name, **kwargs)\n",
    "        # build decoder model\n",
    "        self.x = tf.keras.layers.Dense(intermediate_dim, activation=tf.nn.relu, name='decoder_intermediate')\n",
    "        self.outputs = tf.keras.layers.Dense(original_dim, activation=tf.nn.sigmoid, name='decoder_output')\n",
    "\n",
    "    def call(self, latent_inputs):\n",
    "        y = self.x(latent_inputs)\n",
    "        return self.outputs(y)\n"
   ]
  },
  {
   "cell_type": "code",
   "execution_count": 6,
   "metadata": {},
   "outputs": [],
   "source": [
    "def main(**kwargs):\n",
    "    # MNIST dataset\n",
    "    (x_train, y_train), (x_test, y_test) = tf.keras.datasets.mnist.load_data()\n",
    "\n",
    "    image_size = x_train.shape[1]\n",
    "    original_dim = image_size * image_size\n",
    "    x_train = np.reshape(x_train, [-1, original_dim])\n",
    "    x_test = np.reshape(x_test, [-1, original_dim])\n",
    "    x_train = x_train.astype('float32') / 255\n",
    "    x_test = x_test.astype('float32') / 255\n",
    "\n",
    "    # network parameters\n",
    "    input_shape = (original_dim,)\n",
    "    intermediate_dim = 512\n",
    "    batch_size = 128\n",
    "    latent_dim = 2\n",
    "    epochs = 50\n",
    "\n",
    "    model = VariationalAutoencoder(original_dim, intermediate_dim, latent_dim)\n",
    "    optimizer = tf.keras.optimizers.Adam(learning_rate=1e-3)\n",
    "    model.compile(optimizer, loss=tf.keras.losses.mse)\n",
    "    model.fit(x_train, x_train, epochs=3, batch_size=64)\n"
   ]
  },
  {
   "cell_type": "code",
   "execution_count": 7,
   "metadata": {},
   "outputs": [
    {
     "name": "stdout",
     "output_type": "stream",
     "text": [
      "Train on 60000 samples\n",
      "Epoch 1/3\n",
      "60000/60000 [==============================] - 8s 139us/sample - loss: 0.3788\n",
      "Epoch 2/3\n",
      "60000/60000 [==============================] - 7s 114us/sample - loss: 0.0773\n",
      "Epoch 3/3\n",
      "60000/60000 [==============================] - 6s 105us/sample - loss: 0.0715\n"
     ]
    }
   ],
   "source": [
    "main()"
   ]
  }
 ],
 "metadata": {
  "kernelspec": {
   "display_name": "Python 3",
   "language": "python",
   "name": "python3"
  },
  "language_info": {
   "codemirror_mode": {
    "name": "ipython",
    "version": 3
   },
   "file_extension": ".py",
   "mimetype": "text/x-python",
   "name": "python",
   "nbconvert_exporter": "python",
   "pygments_lexer": "ipython3",
   "version": "3.7.6"
  }
 },
 "nbformat": 4,
 "nbformat_minor": 4
}
