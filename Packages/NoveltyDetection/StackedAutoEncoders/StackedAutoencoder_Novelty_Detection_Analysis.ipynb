{
 "cells": [
  {
   "cell_type": "markdown",
   "metadata": {},
   "source": [
    "# Projeto Marinha do Brasil\n",
    "\n",
    "## Laboratório de Processamento de Sinais - UFRJ\n",
    "\n",
    "### Autor: Vinícius dos Santos Mello <viniciusdsmello@poli.ufrj.br>"
   ]
  },
  {
   "cell_type": "code",
   "execution_count": 1,
   "metadata": {},
   "outputs": [
    {
     "name": "stderr",
     "output_type": "stream",
     "text": [
      "Using TensorFlow backend.\n"
     ]
    },
    {
     "name": "stdout",
     "output_type": "stream",
     "text": [
      "[+] Time to read data file: 8.032801866531372 seconds\n",
      "Qtd event of A is 12939\n",
      "Qtd event of B is 29352\n",
      "Qtd event of C is 11510\n",
      "Qtd event of D is 23760\n",
      "\n",
      "Biggest class is B with 29352 events\n",
      "Total of events in the dataset is 77561\n",
      "Balacing data...\n",
      "Reading from C:\\Users\\vinic\\Workspace\\LPS\\SonarAnalysis\\Results\\NoveltyDetection\\4_folds_cross_validation_balanced_data_dev.jbl\n",
      "Reading from C:\\Users\\vinic\\Workspace\\LPS\\SonarAnalysis\\Results\\NoveltyDetection\\4_folds_cross_validation_balanced_data_dev.jbl\n"
     ]
    }
   ],
   "source": [
    "import sys\n",
    "import time\n",
    "import multiprocessing\n",
    "import pprint \n",
    "\n",
    "from datetime import datetime, timedelta\n",
    "\n",
    "from Packages.NoveltyDetection.setup.noveltyDetectionConfig import CONFIG\n",
    "from SAENoveltyDetectionAnalysis import SAENoveltyDetectionAnalysis\n",
    "from Functions.telegrambot import Bot\n",
    "\n",
    "num_processes = multiprocessing.cpu_count()\n",
    "\n",
    "my_bot = Bot(\"lisa_thebot\")\n",
    "\n",
    "# Enviroment variables\n",
    "data_path = CONFIG['OUTPUTDATAPATH']\n",
    "results_path = CONFIG['PACKAGE_NAME']\n",
    "\n",
    "training_params = {\n",
    "    \"Technique\": \"StackedAutoEncoder\",\n",
    "    \"TechniqueParameters\": {\n",
    "        \"allow_change_weights\": False #False\n",
    "    },\n",
    "    \"DevelopmentMode\": True,\n",
    "    \"DevelopmentEvents\": 1600,\n",
    "    \"NoveltyDetection\": True,\n",
    "    \"InputDataConfig\": {\n",
    "        \"database\": \"4classes\",\n",
    "        \"n_pts_fft\": 1024,\n",
    "        \"decimation_rate\": 3,\n",
    "        \"spectrum_bins_left\": 400,\n",
    "        \"n_windows\": 1,\n",
    "        \"balance_data\": True\n",
    "    },\n",
    "    \"OptmizerAlgorithm\": {\n",
    "        \"name\": \"Adam\",\n",
    "        \"parameters\": {\n",
    "            \"learning_rate\": 0.001,\n",
    "            \"beta_1\": 0.90,\n",
    "            \"beta_2\": 0.999,\n",
    "            \"epsilon\": 1e-08,\n",
    "            \"learning_decay\": 1e-6,\n",
    "            \"momentum\": 0.3,\n",
    "            \"nesterov\": True\n",
    "        }\n",
    "    },\n",
    "    \"HyperParameters\": {\n",
    "        \"n_folds\": 4,#10, #4,\n",
    "        #\"n_epochs\": 300,#500,\n",
    "        \"pretraining_n_epochs\": 300,\n",
    "        \"finetuning_n_epochs\": 300,\n",
    "        \"n_inits\": 1,#1, #2,\n",
    "        \"batch_size\": 128,#128, #256,\n",
    "        \"kernel_initializer\": \"uniform\",\n",
    "        \"bias_initializer\": \"ones\", #zeros\n",
    "        \"encoder_activation_function\": \"sigmoid\",\n",
    "        \"decoder_activation_function\": \"sigmoid\",\n",
    "        \"classifier_output_activation_function\": \"sigmoid\",\n",
    "        \"norm\": \"mapstd\",\n",
    "        \"metrics\": [\"accuracy\"],\n",
    "        \"loss\": \"mean_squared_error\",\n",
    "        \"dropout\": False,\n",
    "        \"dropout_parameter\": 0.00,\n",
    "        \"regularization\": None, #None\n",
    "        \"regularization_parameter\": 0.00 #0.00\n",
    "    },\n",
    "    \"callbacks\": {\n",
    "        \"EarlyStopping\": {\n",
    "            \"patience\": 30,\n",
    "            \"monitor\": \"val_loss\"\n",
    "        }\n",
    "    }\n",
    "}\n",
    "analysis = SAENoveltyDetectionAnalysis(parameters=training_params,\n",
    "                                       model_hash=\"\",\n",
    "                                       load_hash=False, load_data=True, verbose=True)\n",
    "all_data, all_trgt, trgt_sparse = analysis.getData()\n",
    "\n",
    "SAE = analysis.createSAEModels()\n",
    "\n",
    "trn_data = analysis.trn_data\n",
    "trn_trgt = analysis.trn_trgt\n",
    "trn_trgt_sparse = analysis.trn_trgt_sparse"
   ]
  },
  {
   "cell_type": "code",
   "execution_count": 2,
   "metadata": {},
   "outputs": [
    {
     "name": "stdout",
     "output_type": "stream",
     "text": [
      "354a72b3e4ebfb12896c02ee30c130cde48d1f8f2703b6e61c596dded2d1c7c6\n",
      "C:\\Users\\vinic\\Workspace\\LPS\\SonarAnalysis\\Results\\NoveltyDetection\\StackedAutoEncoder\\outputs\\354a72b3e4ebfb12896c02ee30c130cde48d1f8f2703b6e61c596dded2d1c7c6\n",
      "{'DevelopmentEvents': 1600,\n",
      " 'DevelopmentMode': True,\n",
      " 'HyperParameters': {'batch_size': 128,\n",
      "                     'bias_initializer': 'ones',\n",
      "                     'classifier_output_activation_function': 'sigmoid',\n",
      "                     'decoder_activation_function': 'sigmoid',\n",
      "                     'dropout': False,\n",
      "                     'dropout_parameter': 0.0,\n",
      "                     'encoder_activation_function': 'sigmoid',\n",
      "                     'finetuning_n_epochs': 300,\n",
      "                     'kernel_initializer': 'uniform',\n",
      "                     'loss': 'mean_squared_error',\n",
      "                     'metrics': ['accuracy'],\n",
      "                     'n_folds': 4,\n",
      "                     'n_inits': 1,\n",
      "                     'norm': 'mapstd',\n",
      "                     'pretraining_n_epochs': 300,\n",
      "                     'regularization': None,\n",
      "                     'regularization_parameter': 0.0},\n",
      " 'InputDataConfig': {'balance_data': True,\n",
      "                     'database': '4classes',\n",
      "                     'decimation_rate': 3,\n",
      "                     'n_pts_fft': 1024,\n",
      "                     'n_windows': 1,\n",
      "                     'spectrum_bins_left': 400},\n",
      " 'NoveltyDetection': True,\n",
      " 'OptmizerAlgorithm': {'name': 'Adam',\n",
      "                       'parameters': {'beta_1': 0.9,\n",
      "                                      'beta_2': 0.999,\n",
      "                                      'epsilon': 1e-08,\n",
      "                                      'learning_decay': 1e-06,\n",
      "                                      'learning_rate': 0.001,\n",
      "                                      'momentum': 0.3,\n",
      "                                      'nesterov': True}},\n",
      " 'Technique': 'StackedAutoEncoder',\n",
      " 'TechniqueParameters': {'allow_change_weights': False},\n",
      " 'callbacks': {'EarlyStopping': {'monitor': 'val_loss', 'patience': 30}}}\n"
     ]
    }
   ],
   "source": [
    "pp = pprint.PrettyPrinter(indent=1)\n",
    "print(analysis.model_hash)\n",
    "print(analysis.getBaseResultsPath())\n",
    "pp.pprint(analysis.parameters)"
   ]
  },
  {
   "cell_type": "markdown",
   "metadata": {},
   "source": [
    "### Perform the training of the model"
   ]
  },
  {
   "cell_type": "code",
   "execution_count": 5,
   "metadata": {},
   "outputs": [
    {
     "name": "stdout",
     "output_type": "stream",
     "text": [
      "python C:\\Users\\vinic\\Workspace\\LPS\\SonarAnalysis\\Packages\\NoveltyDetection\\StackedAutoEncoders\\sae_train.py --layer 1 --novelty 0 --finetunning 1 --threads 2 --type normal --hiddenNeurons 400 --neuronsVariationStep 50 --modelhash 354a72b3e4ebfb12896c02ee30c130cde48d1f8f2703b6e61c596dded2d1c7c6\n",
      "The training of the model for novelty class A took 0:01:21.231113 to be performed\n",
      "\n",
      "python C:\\Users\\vinic\\Workspace\\LPS\\SonarAnalysis\\Packages\\NoveltyDetection\\StackedAutoEncoders\\sae_train.py --layer 1 --novelty 1 --finetunning 1 --threads 2 --type normal --hiddenNeurons 400 --neuronsVariationStep 50 --modelhash 354a72b3e4ebfb12896c02ee30c130cde48d1f8f2703b6e61c596dded2d1c7c6\n",
      "The training of the model for novelty class B took 0:00:45.259048 to be performed\n",
      "\n",
      "python C:\\Users\\vinic\\Workspace\\LPS\\SonarAnalysis\\Packages\\NoveltyDetection\\StackedAutoEncoders\\sae_train.py --layer 1 --novelty 2 --finetunning 1 --threads 2 --type normal --hiddenNeurons 400 --neuronsVariationStep 50 --modelhash 354a72b3e4ebfb12896c02ee30c130cde48d1f8f2703b6e61c596dded2d1c7c6\n",
      "The training of the model for novelty class C took 0:00:47.804699 to be performed\n",
      "\n",
      "python C:\\Users\\vinic\\Workspace\\LPS\\SonarAnalysis\\Packages\\NoveltyDetection\\StackedAutoEncoders\\sae_train.py --layer 1 --novelty 3 --finetunning 1 --threads 2 --type normal --hiddenNeurons 400 --neuronsVariationStep 50 --modelhash 354a72b3e4ebfb12896c02ee30c130cde48d1f8f2703b6e61c596dded2d1c7c6\n",
      "The training of the model for novelty class D took 0:00:47.896529 to be performed\n",
      "\n"
     ]
    }
   ],
   "source": [
    "for inovelty in range(len(analysis.class_labels)):\n",
    "    startTime = time.time()\n",
    "    \n",
    "    data=trn_data[inovelty]\n",
    "    trgt=trn_trgt[inovelty]\n",
    "    trainingType = \"normal\" #foldSweep, neuronSweep, normal, layerSweep\n",
    "    analysis.train(layer=1,\n",
    "                   inovelty=inovelty,\n",
    "                   fineTuning=True,\n",
    "                   trainingType=trainingType,\n",
    "                   hidden_neurons=[400],\n",
    "                   neurons_variation_step=50,\n",
    "                   numThreads=2,\n",
    "                   model_hash=analysis.model_hash)\n",
    "    \n",
    "    duration = str(timedelta(seconds=float(time.time() - startTime)))\n",
    "    print(\"The training of the model for novelty class {0} took {1} to be performed\\n\".format(analysis.class_labels[inovelty], duration))"
   ]
  },
  {
   "cell_type": "code",
   "execution_count": null,
   "metadata": {},
   "outputs": [],
   "source": [
    "analysis.train(layer=1,\n",
    "               inovelty=0,\n",
    "               fineTuning=True,\n",
    "               trainingType=\"normal\",\n",
    "               hidden_neurons=[1],\n",
    "               neurons_variation_step=50,\n",
    "               numThreads=4,\n",
    "               model_hash=analysis.model_hash)"
   ]
  },
  {
   "cell_type": "markdown",
   "metadata": {},
   "source": [
    "### Grid Search"
   ]
  },
  {
   "cell_type": "code",
   "execution_count": null,
   "metadata": {},
   "outputs": [],
   "source": [
    "import copy\n",
    "num_values = 4\n",
    "gridSearch = [copy.deepcopy(training_params) for i in range(num_values)]\n",
    "for params in gridSearch:\n",
    "    params['HyperParameters']['regularization_parameter'] = 2**-i\n",
    "    print params['HyperParameters']['regularization_parameter']\n",
    "    i = i - 1\n",
    "    \n",
    "gridSearch[3]"
   ]
  }
 ],
 "metadata": {
  "kernelspec": {
   "display_name": "Python 3",
   "language": "python",
   "name": "python3"
  },
  "language_info": {
   "codemirror_mode": {
    "name": "ipython",
    "version": 3
   },
   "file_extension": ".py",
   "mimetype": "text/x-python",
   "name": "python",
   "nbconvert_exporter": "python",
   "pygments_lexer": "ipython3",
   "version": "3.6.8"
  }
 },
 "nbformat": 4,
 "nbformat_minor": 2
}
