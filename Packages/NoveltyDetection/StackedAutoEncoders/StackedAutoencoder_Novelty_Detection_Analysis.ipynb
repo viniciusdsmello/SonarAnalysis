{
 "cells": [
  {
   "cell_type": "markdown",
   "metadata": {},
   "source": [
    "# Projeto Marinha do Brasil\n",
    "\n",
    "## Laboratório de Processamento de Sinais - UFRJ\n",
    "\n",
    "### Autor: Vinícius dos Santos Mello <viniciusdsmello@poli.ufrj.br>"
   ]
  },
  {
   "cell_type": "code",
   "execution_count": 1,
   "metadata": {},
   "outputs": [
    {
     "name": "stderr",
     "output_type": "stream",
     "text": [
      "Using TensorFlow backend.\n",
      "/home/vinicius.mello/anaconda3/envs/sonarenv/lib/python3.7/site-packages/sklearn/externals/joblib/__init__.py:15: FutureWarning: sklearn.externals.joblib is deprecated in 0.21 and will be removed in 0.23. Please import this functionality directly from joblib, which can be installed with: pip install joblib. If this warning is raised when loading pickled models, you may need to re-serialize those models with scikit-learn 0.21+.\n",
      "  warnings.warn(msg, category=FutureWarning)\n"
     ]
    },
    {
     "name": "stdout",
     "output_type": "stream",
     "text": [
      "Creating /home/vinicius.mello/Workspace/LPS/SonarAnalysis/Results/NoveltyDetection/StackedAutoEncoder/outputs/c579f5a2dff7417197b0e2186e7b7b25e6b52d98f9e2e0e232c6ba1f56c6d68f\n",
      "Creating /home/vinicius.mello/Workspace/LPS/SonarAnalysis/Results/NoveltyDetection/StackedAutoEncoder/outputs/c579f5a2dff7417197b0e2186e7b7b25e6b52d98f9e2e0e232c6ba1f56c6d68f/AnalysisFiles\n",
      "Creating /home/vinicius.mello/Workspace/LPS/SonarAnalysis/Results/NoveltyDetection/StackedAutoEncoder/outputs/c579f5a2dff7417197b0e2186e7b7b25e6b52d98f9e2e0e232c6ba1f56c6d68f/Pictures\n",
      "Creating /home/vinicius.mello/Workspace/LPS/SonarAnalysis/Results/NoveltyDetection/StackedAutoEncoder/outputs/c579f5a2dff7417197b0e2186e7b7b25e6b52d98f9e2e0e232c6ba1f56c6d68f/Models\n",
      "Creating /home/vinicius.mello/Workspace/LPS/SonarAnalysis/Results/NoveltyDetection/StackedAutoEncoder/outputs/c579f5a2dff7417197b0e2186e7b7b25e6b52d98f9e2e0e232c6ba1f56c6d68f/Logs\n",
      "Saving /home/vinicius.mello/Workspace/LPS/SonarAnalysis/Results/NoveltyDetection/StackedAutoEncoder/outputs/c579f5a2dff7417197b0e2186e7b7b25e6b52d98f9e2e0e232c6ba1f56c6d68f/parameters.json\n",
      "[+] Time to read data file: 1.001051664352417 seconds\n",
      "Qtd event of A is 12939\n",
      "Qtd event of B is 29352\n",
      "Qtd event of C is 11510\n",
      "Qtd event of D is 23760\n",
      "\n",
      "Biggest class is B with 29352 events\n",
      "Total of events in the dataset is 77561\n",
      "Balacing data...\n",
      "DataHandler Class: CreateEventsForClass\n",
      "Original Size: (12939, 400)\n",
      "DataHandler Class: CreateEventsForClass\n",
      "Original Size: (29352, 400)\n",
      "DataHandler Class: CreateEventsForClass\n",
      "Original Size: (11510, 400)\n",
      "DataHandler Class: CreateEventsForClass\n",
      "Original Size: (23760, 400)\n",
      "Reading from /home/vinicius.mello/Workspace/LPS/SonarAnalysis/Results/NoveltyDetection/4_folds_cross_validation_balanced_data.jbl\n",
      "Reading from /home/vinicius.mello/Workspace/LPS/SonarAnalysis/Results/NoveltyDetection/4_folds_cross_validation_balanced_data.jbl\n"
     ]
    }
   ],
   "source": [
    "import sys\n",
    "import time\n",
    "import multiprocessing\n",
    "import pprint \n",
    "\n",
    "from datetime import datetime, timedelta\n",
    "\n",
    "from Packages.NoveltyDetection.setup.noveltyDetectionConfig import CONFIG\n",
    "from SAENoveltyDetectionAnalysis import SAENoveltyDetectionAnalysis\n",
    "from Functions.telegrambot import Bot\n",
    "\n",
    "num_processes = multiprocessing.cpu_count()\n",
    "\n",
    "my_bot = Bot(\"lisa_thebot\")\n",
    "\n",
    "# Enviroment variables\n",
    "data_path = CONFIG['OUTPUTDATAPATH']\n",
    "results_path = CONFIG['PACKAGE_NAME']\n",
    "\n",
    "training_params = {\n",
    "    \"Technique\": \"StackedAutoEncoder\",\n",
    "    \"TechniqueParameters\": {\n",
    "        \"allow_change_weights\": False #False\n",
    "    },\n",
    "    \"DevelopmentMode\": False,\n",
    "    \"DevelopmentEvents\": 1600,\n",
    "    \"NoveltyDetection\": True,\n",
    "    \"InputDataConfig\": {\n",
    "        \"database\": \"4classes\",\n",
    "        \"n_pts_fft\": 1024,\n",
    "        \"decimation_rate\": 3,\n",
    "        \"spectrum_bins_left\": 400,\n",
    "        \"n_windows\": 1,\n",
    "        \"balance_data\": True\n",
    "    },\n",
    "    \"OptmizerAlgorithm\": {\n",
    "        \"name\": \"Adam\",\n",
    "        \"parameters\": {\n",
    "            \"learning_rate\": 0.001,\n",
    "            \"beta_1\": 0.90,\n",
    "            \"beta_2\": 0.999,\n",
    "            \"epsilon\": 1e-08,\n",
    "            \"learning_decay\": 1e-6,\n",
    "            \"momentum\": 0.3,\n",
    "            \"nesterov\": True\n",
    "        }\n",
    "    },\n",
    "    \"HyperParameters\": {\n",
    "        \"n_folds\": 4,\n",
    "        \"pretraining_n_epochs\": 300,\n",
    "        \"finetuning_n_epochs\": 300,\n",
    "        \"n_inits\": 2,\n",
    "        \"batch_size\": 64,\n",
    "        \"kernel_initializer\": \"uniform\",\n",
    "        \"bias_initializer\": \"ones\",\n",
    "        \"encoder_activation_function\": \"sigmoid\",\n",
    "        \"decoder_activation_function\": \"sigmoid\",\n",
    "        \"classifier_output_activation_function\": \"softmax\",\n",
    "        \"norm\": \"mapstd\",\n",
    "        \"metrics\": [\"accuracy\"],\n",
    "        \"loss\": \"mean_squared_error\",\n",
    "        \"classifier_loss\": \"mean_squared_error\",\n",
    "        \"dropout\": False,\n",
    "        \"dropout_parameter\": 0.00,\n",
    "        \"regularization\": None, \n",
    "        \"regularization_parameter\": 0.00\n",
    "    },\n",
    "    \"callbacks\": {\n",
    "        \"EarlyStopping\": {\n",
    "            \"patience\": 300,\n",
    "            \"monitor\": \"val_loss\"\n",
    "        }\n",
    "    }\n",
    "}\n",
    "analysis = SAENoveltyDetectionAnalysis(parameters=training_params,\n",
    "                                       model_hash=\"\",\n",
    "                                       load_hash=False, load_data=True, verbose=True)\n",
    "all_data, all_trgt, trgt_sparse = analysis.getData()\n",
    "\n",
    "SAE = analysis.createSAEModels()\n",
    "\n",
    "trn_data = analysis.trn_data\n",
    "trn_trgt = analysis.trn_trgt\n",
    "trn_trgt_sparse = analysis.trn_trgt_sparse"
   ]
  },
  {
   "cell_type": "code",
   "execution_count": 2,
   "metadata": {
    "collapsed": false,
    "jupyter": {
     "outputs_hidden": false
    }
   },
   "outputs": [
    {
     "name": "stdout",
     "output_type": "stream",
     "text": [
      "c579f5a2dff7417197b0e2186e7b7b25e6b52d98f9e2e0e232c6ba1f56c6d68f\n",
      "/home/vinicius.mello/Workspace/LPS/SonarAnalysis/Results/NoveltyDetection/StackedAutoEncoder/outputs/c579f5a2dff7417197b0e2186e7b7b25e6b52d98f9e2e0e232c6ba1f56c6d68f\n",
      "{'DevelopmentEvents': 1600,\n",
      " 'DevelopmentMode': False,\n",
      " 'HyperParameters': {'batch_size': 64,\n",
      "                     'bias_initializer': 'ones',\n",
      "                     'classifier_loss': 'mean_squared_error',\n",
      "                     'classifier_output_activation_function': 'softmax',\n",
      "                     'decoder_activation_function': 'sigmoid',\n",
      "                     'dropout': False,\n",
      "                     'dropout_parameter': 0.0,\n",
      "                     'encoder_activation_function': 'sigmoid',\n",
      "                     'finetuning_n_epochs': 300,\n",
      "                     'kernel_initializer': 'uniform',\n",
      "                     'loss': 'mean_squared_error',\n",
      "                     'metrics': ['accuracy'],\n",
      "                     'n_folds': 4,\n",
      "                     'n_inits': 2,\n",
      "                     'norm': 'mapstd',\n",
      "                     'pretraining_n_epochs': 300,\n",
      "                     'regularization': None,\n",
      "                     'regularization_parameter': 0.0},\n",
      " 'InputDataConfig': {'balance_data': True,\n",
      "                     'database': '4classes',\n",
      "                     'decimation_rate': 3,\n",
      "                     'n_pts_fft': 1024,\n",
      "                     'n_windows': 1,\n",
      "                     'spectrum_bins_left': 400},\n",
      " 'NoveltyDetection': True,\n",
      " 'OptmizerAlgorithm': {'name': 'Adam',\n",
      "                       'parameters': {'beta_1': 0.9,\n",
      "                                      'beta_2': 0.999,\n",
      "                                      'epsilon': 1e-08,\n",
      "                                      'learning_decay': 1e-06,\n",
      "                                      'learning_rate': 0.001,\n",
      "                                      'momentum': 0.3,\n",
      "                                      'nesterov': True}},\n",
      " 'Technique': 'StackedAutoEncoder',\n",
      " 'TechniqueParameters': {'allow_change_weights': False},\n",
      " 'callbacks': {'EarlyStopping': {'monitor': 'val_loss', 'patience': 300}}}\n"
     ]
    }
   ],
   "source": [
    "pp = pprint.PrettyPrinter(indent=1)\n",
    "print(analysis.model_hash)\n",
    "print(analysis.getBaseResultsPath())\n",
    "pp.pprint(analysis.parameters)"
   ]
  },
  {
   "cell_type": "markdown",
   "metadata": {},
   "source": [
    "### Perform the training of the model"
   ]
  },
  {
   "cell_type": "code",
   "execution_count": null,
   "metadata": {},
   "outputs": [
    {
     "name": "stdout",
     "output_type": "stream",
     "text": [
      "python /home/vinicius.mello/Workspace/LPS/SonarAnalysis/Packages/NoveltyDetection/StackedAutoEncoders/sae_train.py --layer 1 --novelty 0 --finetunning 1 --threads 8 --type neuronSweep --hiddenNeurons 400 --neuronsVariationStep 50 --modelhash d7e9c272a78cd00c3e4ad161fa3cae389c3b2547aff986dd65669d5bceb5f421\n",
      "The training of the model for novelty class A took 6:39:51.959771 to be performed\n",
      "\n",
      "python /home/vinicius.mello/Workspace/LPS/SonarAnalysis/Packages/NoveltyDetection/StackedAutoEncoders/sae_train.py --layer 1 --novelty 1 --finetunning 1 --threads 8 --type neuronSweep --hiddenNeurons 400 --neuronsVariationStep 50 --modelhash d7e9c272a78cd00c3e4ad161fa3cae389c3b2547aff986dd65669d5bceb5f421\n"
     ]
    }
   ],
   "source": [
    "for inovelty in range(len(analysis.class_labels)):\n",
    "    startTime = time.time()\n",
    "    \n",
    "    data=trn_data[inovelty]\n",
    "    trgt=trn_trgt[inovelty]\n",
    "    trainingType = \"neuronSweep\" #foldSweep, neuronSweep, normal, layerSweep\n",
    "    analysis.train(layer=1,\n",
    "                   inovelty=inovelty,\n",
    "                   fineTuning=True,\n",
    "                   trainingType=trainingType,\n",
    "                   hidden_neurons=[400],\n",
    "                   neurons_variation_step=50,\n",
    "                   numThreads=8,\n",
    "                   model_hash=analysis.model_hash)\n",
    "    \n",
    "    duration = str(timedelta(seconds=float(time.time() - startTime)))\n",
    "    print(\"The training of the model for novelty class {0} took {1} to be performed\\n\".format(analysis.class_labels[inovelty], duration))"
   ]
  },
  {
   "cell_type": "code",
   "execution_count": 156,
   "metadata": {},
   "outputs": [
    {
     "data": {
      "text/plain": [
       "'/home/vinicius.mello/Workspace/LPS/SonarAnalysis/Results/NoveltyDetection/StackedAutoEncoder/outputs/f84a0f006d8a19e5c3dbe25d4907659013495f79bb8b377e88673a899d9e2a2d/AnalysisFiles.zip'"
      ]
     },
     "execution_count": 156,
     "metadata": {},
     "output_type": "execute_result"
    }
   ],
   "source": [
    "analysis.get_analysis_zip()"
   ]
  }
 ],
 "metadata": {
  "kernelspec": {
   "display_name": "Python 3",
   "language": "python",
   "name": "python3"
  },
  "language_info": {
   "codemirror_mode": {
    "name": "ipython",
    "version": 3
   },
   "file_extension": ".py",
   "mimetype": "text/x-python",
   "name": "python",
   "nbconvert_exporter": "python",
   "pygments_lexer": "ipython3",
   "version": "3.7.6"
  }
 },
 "nbformat": 4,
 "nbformat_minor": 4
}
